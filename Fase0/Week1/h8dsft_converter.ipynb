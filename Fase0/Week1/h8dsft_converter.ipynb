{
 "cells": [
  {
   "cell_type": "code",
   "execution_count": 34,
   "metadata": {},
   "outputs": [],
   "source": [
    "import h8dsft_converter_constants as c #importing all constants from ./h8sft_converter_constants.py\n",
    "\n",
    "def convertFromCelcius (value = 0, to = 'Fahrenheit'):\n",
    "    \"function to convert from Celcius\"\n",
    "    if (to == 'Fahrenheit'):\n",
    "        result = round((value * c.FAHRENHEIT / c.CELCIUS) + c.FAHRENHEIT_DIFF, 2)\n",
    "        return str(result) + 'F'\n",
    "    elif (to == 'Kelvin'):\n",
    "        result = round(value + c.KELVIN_DIFF, 2)\n",
    "        return str(result) + 'K'\n",
    "    elif (to == 'Celcius'):\n",
    "        return str(value) + 'C'\n",
    "    else:\n",
    "        print(to + ' is not recognizable, \"to\" argument only recognize \"Fahrenheit\", \"Celcius\", or \"Kelvin\"')\n",
    "\n",
    "def convertFromKelvin (value = 0, to = 'Celcius'):\n",
    "    \"function to convert from Kelvin\"\n",
    "    if (to == 'Fahrenheit'):\n",
    "        result = round(((value - c.KELVIN_DIFF) * c.FAHRENHEIT / c.KELVIN) + c.FAHRENHEIT_DIFF, 2)\n",
    "        return str(result) + 'F'\n",
    "    elif (to == 'Celcius'):\n",
    "        result = round(value - c.KELVIN_DIFF, 2)\n",
    "        return str(result) + 'C'\n",
    "    elif (to == 'Kelvin'):\n",
    "        return str(value) + 'K'\n",
    "    else:\n",
    "        print(to + ' is not recognizable, \"to\" argument only recognize \"Fahrenheit\", \"Celcius\", or \"Kelvin\"')\n",
    "        \n",
    "def convertFromFahrenheit (value = 0, to = 'Kelvin'):\n",
    "    \"function to convert from Fahrenheit\"\n",
    "    if (to == 'Kelvin'):\n",
    "        result = round(((value - c.FAHRENHEIT_DIFF) * c.KELVIN / c.FAHRENHEIT) + c.KELVIN_DIFF, 2)\n",
    "        return str(result) + 'F'\n",
    "    elif (to == 'Celcius'):\n",
    "        result = round((value - c.FAHRENHEIT_DIFF) * c.CELCIUS / c.FAHRENHEIT, 2)\n",
    "        return str(result) + 'C'\n",
    "    elif (to == 'Fahrenheit'):\n",
    "        return str(value) + 'K'\n",
    "    else:\n",
    "        print(to + ' is not recognizable, \"to\" argument only recognize \"Fahrenheit\", \"Celcius\", or \"Kelvin\"')\n"
   ]
  },
  {
   "cell_type": "code",
   "execution_count": 35,
   "metadata": {},
   "outputs": [
    {
     "name": "stdout",
     "output_type": "stream",
     "text": [
      "-297.67F\n"
     ]
    }
   ],
   "source": [
    "def tempConverter (frm, to, value):\n",
    "    \"temperature converter (args: frm<the temperature from>, to<convert it to the said temperature>, value<the value of the temperature>\"\n",
    "    if (frm == 'Celcius'):\n",
    "        return convertFromCelcius(value, to)\n",
    "    elif (frm == 'Kelvin'):\n",
    "        return convertFromKelvin(value, to)\n",
    "    elif (frm == 'Fahrenheit'):\n",
    "        return convertFromFahrenheit(value, to)\n",
    "    else:\n",
    "        print(to + ' is not recognizable, \"to\" argument only recognize \"Fahrenheit\", \"Celcius\", or \"Kelvin\"')\n",
    "\n",
    "print(tempConverter(frm='Kelvin', to='Fahrenheit', value=90))\n"
   ]
  }
 ],
 "metadata": {
  "interpreter": {
   "hash": "2be5faf79681da6f2a61fdfdd5405d65d042280f7fba6178067603e3a2925119"
  },
  "kernelspec": {
   "display_name": "Python 3.10.0 64-bit",
   "language": "python",
   "name": "python3"
  },
  "language_info": {
   "codemirror_mode": {
    "name": "ipython",
    "version": 3
   },
   "file_extension": ".py",
   "mimetype": "text/x-python",
   "name": "python",
   "nbconvert_exporter": "python",
   "pygments_lexer": "ipython3",
   "version": "3.10.0"
  },
  "orig_nbformat": 4
 },
 "nbformat": 4,
 "nbformat_minor": 2
}
