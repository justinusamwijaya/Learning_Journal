{
 "cells": [
  {
   "cell_type": "code",
   "execution_count": 49,
   "metadata": {},
   "outputs": [
    {
     "ename": "IndexError",
     "evalue": "list index out of range",
     "output_type": "error",
     "traceback": [
      "\u001b[1;31m---------------------------------------------------------------------------\u001b[0m",
      "\u001b[1;31mIndexError\u001b[0m                                Traceback (most recent call last)",
      "\u001b[1;32mc:\\Users\\Andro\\OneDrive\\Desktop\\codes\\hacktiv8\\datascience\\lectures\\git-lecture-justinusamwijaya\\h8dsft_looping.ipynb Cell 1'\u001b[0m in \u001b[0;36m<module>\u001b[1;34m\u001b[0m\n\u001b[0;32m      <a href='vscode-notebook-cell:/c%3A/Users/Andro/OneDrive/Desktop/codes/hacktiv8/datascience/lectures/git-lecture-justinusamwijaya/h8dsft_looping.ipynb#ch0000000?line=0'>1</a>\u001b[0m numbers \u001b[39m=\u001b[39m [\u001b[39m951\u001b[39m, \u001b[39m402\u001b[39m, \u001b[39m984\u001b[39m, \u001b[39m651\u001b[39m, \u001b[39m360\u001b[39m, \u001b[39m69\u001b[39m, \u001b[39m408\u001b[39m, \u001b[39m319\u001b[39m, \u001b[39m601\u001b[39m, \u001b[39m485\u001b[39m, \u001b[39m980\u001b[39m, \u001b[39m507\u001b[39m, \u001b[39m725\u001b[39m, \u001b[39m547\u001b[39m, \u001b[39m544\u001b[39m, \u001b[39m615\u001b[39m, \u001b[39m83\u001b[39m, \u001b[39m165\u001b[39m, \u001b[39m141\u001b[39m, \u001b[39m501\u001b[39m, \u001b[39m263\u001b[39m, \u001b[39m617\u001b[39m, \u001b[39m865\u001b[39m, \u001b[39m575\u001b[39m, \u001b[39m219\u001b[39m, \u001b[39m390\u001b[39m, \u001b[39m984\u001b[39m, \u001b[39m592\u001b[39m, \u001b[39m236\u001b[39m, \u001b[39m105\u001b[39m, \u001b[39m942\u001b[39m, \u001b[39m941\u001b[39m, \u001b[39m386\u001b[39m, \u001b[39m462\u001b[39m, \u001b[39m47\u001b[39m, \u001b[39m418\u001b[39m, \u001b[39m907\u001b[39m, \u001b[39m344\u001b[39m, \u001b[39m236\u001b[39m, \u001b[39m375\u001b[39m, \u001b[39m823\u001b[39m, \u001b[39m566\u001b[39m, \u001b[39m597\u001b[39m, \u001b[39m978\u001b[39m, \u001b[39m328\u001b[39m, \u001b[39m615\u001b[39m, \u001b[39m953\u001b[39m, \u001b[39m345\u001b[39m, \u001b[39m399\u001b[39m, \u001b[39m162\u001b[39m, \u001b[39m758\u001b[39m, \u001b[39m219\u001b[39m, \u001b[39m918\u001b[39m, \u001b[39m237\u001b[39m, \u001b[39m412\u001b[39m, \u001b[39m566\u001b[39m, \u001b[39m826\u001b[39m, \u001b[39m248\u001b[39m, \u001b[39m866\u001b[39m, \u001b[39m950\u001b[39m, \u001b[39m626\u001b[39m, \u001b[39m949\u001b[39m]\n\u001b[0;32m      <a href='vscode-notebook-cell:/c%3A/Users/Andro/OneDrive/Desktop/codes/hacktiv8/datascience/lectures/git-lecture-justinusamwijaya/h8dsft_looping.ipynb#ch0000000?line=1'>2</a>\u001b[0m \u001b[39m# index = 0\u001b[39;00m\n\u001b[0;32m      <a href='vscode-notebook-cell:/c%3A/Users/Andro/OneDrive/Desktop/codes/hacktiv8/datascience/lectures/git-lecture-justinusamwijaya/h8dsft_looping.ipynb#ch0000000?line=2'>3</a>\u001b[0m \u001b[39m# status = 1\u001b[39;00m\n\u001b[1;32m----> <a href='vscode-notebook-cell:/c%3A/Users/Andro/OneDrive/Desktop/codes/hacktiv8/datascience/lectures/git-lecture-justinusamwijaya/h8dsft_looping.ipynb#ch0000000?line=3'>4</a>\u001b[0m \u001b[39mprint\u001b[39m(numbers[i])\n",
      "\u001b[1;31mIndexError\u001b[0m: list index out of range"
     ]
    }
   ],
   "source": [
    "numbers = [951, 402, 984, 651, 360, 69, 408, 319, 601, 485, 980, 507, 725, 547, 544, 615, 83, 165, 141, 501, 263, 617, 865, 575, 219, 390, 984, 592, 236, 105, 942, 941, 386, 462, 47, 418, 907, 344, 236, 375, 823, 566, 597, 978, 328, 615, 953, 345, 399, 162, 758, 219, 918, 237, 412, 566, 826, 248, 866, 950, 626, 949]\n",
    "index = 0\n",
    "status = 1\n",
    "\n",
    "while status:\n",
    "    if (numbers[index] % 2 == 0):\n",
    "        print(numbers[index])\n",
    "    if (numbers[index] != 918):\n",
    "        index += 1\n",
    "    else:\n",
    "        status = 0\n",
    "    \n",
    "print('Done')"
   ]
  },
  {
   "cell_type": "code",
   "execution_count": null,
   "metadata": {},
   "outputs": [],
   "source": []
  }
 ],
 "metadata": {
  "interpreter": {
   "hash": "2be5faf79681da6f2a61fdfdd5405d65d042280f7fba6178067603e3a2925119"
  },
  "kernelspec": {
   "display_name": "Python 3.10.0 64-bit",
   "language": "python",
   "name": "python3"
  },
  "language_info": {
   "codemirror_mode": {
    "name": "ipython",
    "version": 3
   },
   "file_extension": ".py",
   "mimetype": "text/x-python",
   "name": "python",
   "nbconvert_exporter": "python",
   "pygments_lexer": "ipython3",
   "version": "3.10.0"
  },
  "orig_nbformat": 4
 },
 "nbformat": 4,
 "nbformat_minor": 2
}
